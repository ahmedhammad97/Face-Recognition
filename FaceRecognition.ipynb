{
  "nbformat": 4,
  "nbformat_minor": 0,
  "metadata": {
    "colab": {
      "name": "FaceRecognition.ipynb",
      "provenance": []
    },
    "kernelspec": {
      "name": "python3",
      "display_name": "Python 3"
    }
  },
  "cells": [
    {
      "cell_type": "code",
      "metadata": {
        "id": "qcZ-EGJw0HBM"
      },
      "source": [
        "import random\n",
        "import numpy as np\n",
        "import matplotlib.pyplot as plt\n",
        "from os import listdir, path, walk\n",
        "from PIL import Image\n",
        "from sklearn.neighbors import KNeighborsClassifier\n",
        "from sklearn import metrics"
      ],
      "execution_count": 2,
      "outputs": []
    },
    {
      "cell_type": "code",
      "metadata": {
        "id": "Nq7br4JZ0Pe7"
      },
      "source": [
        "DATASET_DIR = \"/content/drive/My Drive/dataset\""
      ],
      "execution_count": 3,
      "outputs": []
    },
    {
      "cell_type": "code",
      "metadata": {
        "colab": {
          "base_uri": "https://localhost:8080/"
        },
        "id": "z_sKuI1u5FgH",
        "outputId": "b06a563a-66f6-4e9d-d09a-ece9f3c0f509"
      },
      "source": [
        "from google.colab import drive\n",
        "drive.mount('/content/drive')"
      ],
      "execution_count": 4,
      "outputs": [
        {
          "output_type": "stream",
          "text": [
            "Drive already mounted at /content/drive; to attempt to forcibly remount, call drive.mount(\"/content/drive\", force_remount=True).\n"
          ],
          "name": "stdout"
        }
      ]
    },
    {
      "cell_type": "code",
      "metadata": {
        "id": "pX1sEr1KrQoQ"
      },
      "source": [
        "def read_and_split_dataset(split_const):\n",
        "    train_set, test_set = list(), list()\n",
        "    for _ , dirnames , _ in walk(DATASET_DIR):\n",
        "        for sub in dirnames:\n",
        "            dir_path = f\"{DATASET_DIR}/{sub}\"\n",
        "            sub_set = list()\n",
        "\n",
        "            for blob_name in listdir(dir_path):\n",
        "                img = Image.open(path.join(dir_path , blob_name)).convert('L') \n",
        "                face = np.array(img).ravel()\n",
        "                label = f\"{sub}\"\n",
        "                sub_set.append([face, label])\n",
        "\n",
        "            random.shuffle(sub_set)\n",
        "            train_set.extend(sub_set[:split_const])\n",
        "            test_set.extend(sub_set[split_const:])\n",
        "    return train_set, test_set"
      ],
      "execution_count": 5,
      "outputs": []
    },
    {
      "cell_type": "code",
      "metadata": {
        "id": "uxGakPDQ0Uq1"
      },
      "source": [
        "def read_and_prepare_dataset(split_const):\n",
        "    train_set, test_set = read_and_split_dataset(split_const)\n",
        "    train_set, test_set = np.array(train_set), np.array(test_set)\n",
        "    train_data, train_labels = np.hsplit(train_set, 2)\n",
        "    test_data, test_labels = np.hsplit(test_set, 2)\n",
        "    train_data = np.array([x[0] for x in train_data])\n",
        "    test_data = np.array([x[0] for x in test_data])\n",
        "    train_labels = np.array([x[0] for x in train_labels])\n",
        "    test_labels = np.array([x[0] for x in test_labels])\n",
        "    return train_data, train_labels, test_data, test_labels"
      ],
      "execution_count": 6,
      "outputs": []
    },
    {
      "cell_type": "code",
      "metadata": {
        "id": "aLs9NL_G9L3w"
      },
      "source": [
        "def choose_dimensionality(eigen_values, threshold):\n",
        "    total_variance = np.sum(eigen_values)\n",
        "    variance_fraction, num_dim, eigen_values_sum = 0, 1, 0\n",
        "    while(variance_fraction < threshold):\n",
        "        eigen_values_sum += eigen_values[num_dim-1]\n",
        "        variance_fraction = eigen_values_sum / total_variance\n",
        "        num_dim += 1\n",
        "    return num_dim"
      ],
      "execution_count": 7,
      "outputs": []
    },
    {
      "cell_type": "code",
      "metadata": {
        "id": "wuyh6a7JooFT"
      },
      "source": [
        "def generate_center_matrix(train_data):\n",
        "    train_mean = train_data.mean(axis=0)\n",
        "    return train_data - train_mean"
      ],
      "execution_count": 8,
      "outputs": []
    },
    {
      "cell_type": "code",
      "metadata": {
        "id": "eQKzwTPOlRF1"
      },
      "source": [
        "def generate_eigen_data(center_matrix):\n",
        "    covariance_matrix = np.cov(center_matrix, rowvar=False, bias=True)\n",
        "    eigen_values, eigen_vectors = np.linalg.eigh(covariance_matrix)\n",
        "    eigen_values = np.flip(eigen_values, axis=0)\n",
        "    eigen_vectors = np.flip(eigen_vectors, axis=1)\n",
        "    return eigen_values, eigen_vectors"
      ],
      "execution_count": 9,
      "outputs": []
    },
    {
      "cell_type": "code",
      "metadata": {
        "id": "czfC86BDtMJ0"
      },
      "source": [
        "def generate_projection_matrix(eigen_values, eigen_vectors, alpha):\n",
        "    dim = choose_dimensionality(eigen_values, alpha)\n",
        "    return eigen_vectors[:,0:int(dim)]"
      ],
      "execution_count": 10,
      "outputs": []
    },
    {
      "cell_type": "code",
      "metadata": {
        "id": "P7eOnZGT-UfP"
      },
      "source": [
        "def reduce_data_using_pca(projection_matrix, center_matrix):\n",
        "    return projection_matrix.T @ center_matrix.T"
      ],
      "execution_count": 11,
      "outputs": []
    },
    {
      "cell_type": "code",
      "metadata": {
        "id": "IOtZlu4T-n5m"
      },
      "source": [
        "def knn(train_data, train_labels, test_data, test_labels, k):\n",
        "    knn = KNeighborsClassifier(n_neighbors=k)\n",
        "    knn.fit(train_data, train_labels)\n",
        "    prediction = knn.predict(test_data)\n",
        "    reutrn metrics.accuracy_score(test_labels, prediction)"
      ],
      "execution_count": 12,
      "outputs": []
    },
    {
      "cell_type": "code",
      "metadata": {
        "id": "sRByVSwYK1Qh"
      },
      "source": [
        "train_data, train_labels, test_data, test_labels = read_and_prepare_dataset(5)"
      ],
      "execution_count": 13,
      "outputs": []
    },
    {
      "cell_type": "code",
      "metadata": {
        "id": "YtYAU96L0FXF"
      },
      "source": [
        "center_matrix = generate_center_matrix(train_data)"
      ],
      "execution_count": 14,
      "outputs": []
    },
    {
      "cell_type": "code",
      "metadata": {
        "id": "pLVRGxDV0NAA"
      },
      "source": [
        "eigen_values, eigen_vectors = generate_eigen_data(center_matrix)"
      ],
      "execution_count": 15,
      "outputs": []
    },
    {
      "cell_type": "code",
      "metadata": {
        "id": "K23A5Qa10O0U"
      },
      "source": [
        "alphas = [0.8, 0.85, 0.9, 0.95]\n",
        "projection_matrices = [generate_projection_matrix(eigen_values, eigen_vectors, alpha) for alpha in alphas]"
      ],
      "execution_count": 16,
      "outputs": []
    },
    {
      "cell_type": "code",
      "metadata": {
        "id": "b3kWcpvohtRD"
      },
      "source": [
        "reduced_train_data = [reduce_data_using_pca(projection_matrix, center_matrix) for projection_matrix in projection_matrices]"
      ],
      "execution_count": 17,
      "outputs": []
    },
    {
      "cell_type": "code",
      "metadata": {
        "id": "kLpogGc5jpYg"
      },
      "source": [
        "test_center_matrix = generate_center_matrix(test_data)"
      ],
      "execution_count": 18,
      "outputs": []
    },
    {
      "cell_type": "code",
      "metadata": {
        "id": "4qE70zdFz5ih"
      },
      "source": [
        "reduced_test_data = [reduce_data_using_pca(projection_matrix, test_center_matrix) for projection_matrix in projection_matrices]"
      ],
      "execution_count": 19,
      "outputs": []
    },
    {
      "cell_type": "code",
      "metadata": {
        "colab": {
          "base_uri": "https://localhost:8080/"
        },
        "id": "eNyTOOtvjrwe",
        "outputId": "7b03ae7a-ee9d-4925-9bac-4bb8ebf9702e"
      },
      "source": [
        "k_values = [1, 3, 5, 7]\n",
        "print([[knn(reduced_train.T, train_labels, reduced_test.T, test_labels, k) for reduced_train, reduced_test in zip(reduced_train_data, reduced_test_data)] for k in k_values])"
      ],
      "execution_count": 23,
      "outputs": [
        {
          "output_type": "stream",
          "text": [
            "[[0.94, 0.95, 0.94, 0.93], [0.87, 0.87, 0.885, 0.88], [0.755, 0.735, 0.735, 0.74], [0.715, 0.715, 0.71, 0.71]]\n"
          ],
          "name": "stdout"
        }
      ]
    },
    {
      "cell_type": "code",
      "metadata": {
        "id": "mfD__0KQqngY"
      },
      "source": [
        ""
      ],
      "execution_count": 21,
      "outputs": []
    }
  ]
}